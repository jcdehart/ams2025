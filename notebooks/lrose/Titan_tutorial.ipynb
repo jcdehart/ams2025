{
 "cells": [
  {
   "cell_type": "markdown",
   "id": "readme-header",
   "metadata": {},
   "source": [
    "# TITAN Tutorial\n",
    "\n",
    "---\n",
    "\n",
    "<img align=\"right\" width=\"300\" height=\"300\" src=\"../images/hail_case_tracks.png\">\n",
    "\n",
    "This interactive tutorial takes you through the steps of how to run the Thunderstorm Identification, Tracking, Analysis and Nowcasting (TITAN) suite. TITAN was originally designed as an algorithm to objectively identify and track thunderstorms from weather radar data for a weather modification experiment in South Africa in the 1980s. Now, Titan includes forecasting, storm analysis, and climatological analysis. TITAN now refers to the larger system in which the original application is one component.\n",
    "\n",
    "Titan is described in more detail in [Dixon and Wiener (1993)](https://doi.org/10.1175/1520-0426(1993)010%3C0785:TTITAA%3E2.0.CO;2).\n",
    "\n",
    "\n",
    "---\n",
    "\n",
    "## Tutorial Overview\n",
    "### 1. Setup\n",
    "\n",
    "#### Download raw data and prepare parameter files\n",
    "\n",
    "Raw data files that are provided:\n",
    "* A hail storm in Alberta, observed by the Strathmore radar 40 km east Calgary.\n",
    "* A derecho event in Ontario, observed by the King City radar 40 km north of Toronto.\n",
    "\n",
    "Both of these are 10 cm (S-band) Gematronik dual polarization radars.\n",
    "\n",
    "The data (as a .tgz file) can be downloaded from Mike's Google drive at NCAR:\n",
    "\n",
    "* [AMS Titan data](https://drive.google.com/drive/folders/1OzjLzsGhSBAKDvFzJeBLGHYW0RlYU0hZ?usp=sharing)\n",
    "\n",
    "To be consistent, you should create a ```$HOME/data``` directory and copy the .tgz file there.\n",
    "\n",
    "Then:\n",
    "\n",
    "```\n",
    "  tar xvfz ams2025_titan.raw.tgz\n",
    "```\n",
    "\n",
    "That will create the following tree:\n",
    "\n",
    "```\n",
    "  ~/data/ams2025/ERA5/20220521\n",
    "  ~/data/ams2025/ERA5/20240806\n",
    "  ~/data/ams2025/radar/raw/hail/20240806*.h5\n",
    "  ~/data/ams2025/radar/raw/derecho/20220521*.h5\n",
    "```\n",
    "\n",
    "### 2. Output data\n",
    "\n",
    "After the full analysis has been run, the following derived data directories should exist:\n",
    "\n",
    "```\n",
    "  ~/data/ams2025/ERA5/spdb/Strathmore/20240806* (soundings from ERA5)\n",
    "  ~/data/ams2025/ERA5/spdb/KingCity/20220521* (soundings from ERA5)\n",
    "  ~/data/ams2025/radar/cfradial/qc/Strathmore/20240806/cfrad.20240806*nc (cfradial after QC)\n",
    "  ~/data/ams2025/radar/cfradial/qc/KingCity/20220521/cfrad.20220521*nc (cfradial after QC)\n",
    "  ~/data/ams2025/radar/cfradial/pid/Strathmore/20240806/cfrad.20240806*nc (cfradial PID)\n",
    "  ~/data/ams2025/radar/cfradial/pid/Strathmore/20240806/cfrad.20240806*nc (cfradial PID)\n",
    "  ~/data/ams2025/radar/cart/qc/Strathmore/20240806/ncf_20240806*nc (Cartesian MDC CF-compliant netcdf)\n",
    "  ~/data/ams2025/radar/cart/qc/KingCity/20220521/ncf_202205216*nc (Cartesian MDC CF-compliant netcdf)\n",
    "  ~/data/ams2025/titan/storms/Strathmore/20240806* (Titan binary files)\n",
    "  ~/data/ams2025/titan/storms/KingCity/20220521* (Titan binary files)\n",
    "  ~/data/ams2025/titan/ascii/Tracks2Ascii.hail.txt (Titan output converted by Tracks2Ascii)\n",
    "  ~/data/ams2025/titan/ascii/Tracks2Ascii.derecho.txt (Titan output converted by Tracks2Ascii)\n",
    "  ~/data/ams2025/titan/netcdf/Strathmore/titan_20240806.nc (Titan output converted by Tstorms2NetCDF)\n",
    "  ~/data/ams2025/titan/netcdf/KingCity/titan_20220521.nc (Titan output converted by Tstorms2NetCDF)\n",
    "```\n",
    "\n",
    "### 3. Note on task cells\n",
    "\n",
    "This notebook uses two colored cells to indicate tasks.\n",
    "\n",
    "<div class=\"alert alert-block alert-info\"> <b>File Task: modify parameters in text files.</b> \n",
    "\n",
    "These text blocks help the user modify the parameter files or other functions in *external* text files.\n",
    "\n",
    "</div>\n",
    "\n",
    "<div class=\"alert alert-block alert-warning\"> <b>Cell Task: run a command in Jupyter notebook cell.</b> \n",
    "\n",
    "These text blocks instruct the users to run a command *in* a cell within the Jupyter notebook. If you prefer, you are welcome to copy the commands (minus the ! symbol) into a terminal window.\n",
    "\n",
    "</div>\n",
    "\n",
    "---"
   ]
  },
  {
   "cell_type": "markdown",
   "id": "setup-section",
   "metadata": {},
   "source": [
    "# 1. Setup\n",
    "## Environment and packages"
   ]
  },
  {
   "cell_type": "markdown",
   "id": "setup-description",
   "metadata": {},
   "source": [
    "First, we import the required python packages to run this notebook. Most of the LROSE processing can be done with the os package and shell commands."
   ]
  },
  {
   "cell_type": "code",
   "execution_count": null,
   "id": "import-packages",
   "metadata": {},
   "outputs": [],
   "source": [
    "import os\n",
    "import subprocess"
   ]
  },
  {
   "cell_type": "markdown",
   "id": "checkout-project",
   "metadata": {},
   "source": [
    "## 1.1 Set up directories\n",
    "\n",
    "We need to set up the required data directories. The raw radar data will be grabbed from the S3 buckt. We delete any existing files and directories specific to this tutorial to ensure we're starting with clean directories and files."
   ]
  },
  {
   "cell_type": "code",
   "execution_count": null,
   "id": "checkout-commands",
   "metadata": {},
   "outputs": [],
   "source": [
    "# Check out the project repository\n",
    "!mkdir -p ~/git\n",
    "!cd ~/git\n",
    "!git clone https://github.com/ncar/lrose-titan"
   ]
  },
  {
   "cell_type": "markdown",
   "id": "project-structure",
   "metadata": {},
   "source": [
    "The structure of the ams2025 part of this repo is as follows:\n",
    "\n",
    "```\n",
    "  ~/git/lrose-titan/projects/ams2025/params\n",
    "  ~/git/lrose-titan/projects/ams2025/scripts\n",
    "  ~/git/lrose-titan/projects/ams2025/color_scales\n",
    "  ~/git/lrose-titan/projects/ams2025/maps\n",
    "```"
   ]
  },
  {
   "cell_type": "markdown",
   "id": "setup-environment",
   "metadata": {},
   "source": [
    "## 1.2 Set up the environment\n",
    "\n",
    "In the scripts directory you will find the file:\n",
    "\n",
    "```\n",
    "  ~/git/lrose-titan/projects/ams2025/scripts/set_env_vars\n",
    "```\n",
    "\n",
    "This file setup up the environment, and is sourced by all of the scripts that we run for this project.\n",
    "\n",
    "The default contents are as follows:\n",
    "\n",
    "```\n",
    "  setenv DATA_DIR $HOME/data/ams2025\n",
    "  setenv PROJ_DIR $HOME/git/lrose-titan/projects/ams2025\n",
    "```\n",
    "\n",
    "The default settings work as is, if you have followed these instructions.\n",
    "\n",
    "If you have a different layout, edit ```set_env_vars``` appropriately."
   ]
  },
  {
   "cell_type": "markdown",
   "id": "processing-steps",
   "metadata": {},
   "source": [
    "# 2. Prepare data for analysis\n",
    "\n",
    "The following sections describe two quality control setps and how to run the scripts."
   ]
  },
  {
   "cell_type": "markdown",
   "id": "step-1",
   "metadata": {},
   "source": [
    "## 2.1: Option 1 - Apply quality control (QC) on the raw radar data and convert to CfRadial format using RadxConvert\n",
    "\n",
    "In the hail case, there is no significant signal interference. \n",
    "![Alt text](../images/lrose/hail.dbz.no_qc.png)\n",
    "\n",
    "\n",
    "In the derecho case, considerable interference is present, appearing as radial spikes.  \n",
    "![Alt text](../images/lrose/derecho.dbz.no_qc.png)\n",
    "\n",
    "\n",
    "Closer inspection of these spikes shows that the interference sources are not coherent with the radars, as indicated by:  \n",
    "\n",
    "* Low SQI (NCP)  \n",
    "* Moderately low SNR  \n",
    "\n",
    "To address this, we use `RadxConvert` to censor data fields based on thresholds applied to the input fields. Specifically, data are removed at gates where **both** conditions are met:  \n",
    "\n",
    "* SQI (NCP) < 0.2  \n",
    "* SNR < 25 dB  \n",
    "\n",
    "Since later QC steps require signal-to-noise ratio (SNR), the SNR field is derived from reflectivity (DBZ) and added during processing.  \n",
    "\n",
    "Finally, the raw HDF5 files are converted to CfRadial format using `RadxConvert` with this simple quality control applied.  \n",
    "\n",
    "<div class=\"alert alert-block alert-warning\"> <b>Cell Task: Run QC on hail case data.</b> \n",
    "    <br>\n",
    "    Run the hail case QC script:\n",
    "    <br>\n",
    "    <code lang=\"bash\">!./run_RadxConvert.qc.hail</code>\n",
    "</div>"
   ]
  },
  {
   "cell_type": "code",
   "execution_count": null,
   "id": "convert-hail",
   "metadata": {},
   "outputs": [],
   "source": [
    "# Run QC on hail case data\n",
    "!./run_RadxConvert.qc.hail"
   ]
  },
  {
   "cell_type": "markdown",
   "id": "step-2-derecho",
   "metadata": {},
   "source": [
    "<div class=\"alert alert-block alert-warning\"> <b>Cell Task: Run QC on derecho case data.</b> \n",
    "    <br>\n",
    "    Run the derecho case QC script:\n",
    "    <br>\n",
    "    <code lang=\"bash\">!./run_RadxConvert.qc.derecho</code>\n",
    "</div>"
   ]
  },
  {
   "cell_type": "code",
   "execution_count": null,
   "id": "convert-derecho",
   "metadata": {},
   "outputs": [],
   "source": [
    "# Run QC on derecho case data\n",
    "!./run_RadxConvert.qc.derecho"
   ]
  },
  {
   "cell_type": "markdown",
   "id": "step-3",
   "metadata": {},
   "source": [
    "## 2.2: Option 2 - Computing PID as an alternative method of censoring using RadxPid\n",
    "\n",
    "An alternative method for cleaning up interference is to run RadxPid, and censor non-meteorological echoes.\n",
    "\n",
    "First, we have to download the ERA5 reanalysis for these cases, and we can use that to save the model-based soundings:\n",
    "\n",
    "<div class=\"alert alert-block alert-warning\"> <b>Cell Task: Run ERA5 sounding scripts.</b> \n",
    "    <br>\n",
    "    Run the ERA5 sounding scripts:\n",
    "    <br>\n",
    "    <code lang=\"bash\">!./run_Mdv2SoundingSpdb.ERA5.hail</code><br>\n",
    "    <code lang=\"bash\">!./run_Mdv2SoundingSpdb.ERA5.derecho</code>\n",
    "</div>"
   ]
  },
  {
   "cell_type": "code",
   "execution_count": null,
   "id": "e1460f29",
   "metadata": {},
   "outputs": [],
   "source": [
    "# Get the ERA5 sounding for hail case data\n",
    "!./run_Mdv2SoundingSpdb.ERA5.hail"
   ]
  },
  {
   "cell_type": "code",
   "execution_count": null,
   "id": "b3282a81",
   "metadata": {},
   "outputs": [],
   "source": [
    "# Get the ERA5 sounding for derecho case data\n",
    "!./run_Mdv2SoundingSpdb.ERA5.derecho"
   ]
  },
  {
   "cell_type": "markdown",
   "id": "bc1971f2",
   "metadata": {},
   "source": [
    "And we can then run RadxPid:\n",
    "<div class=\"alert alert-block alert-warning\"> <b>Cell Task: Run PID on hail case data.</b> \n",
    "    <br>\n",
    "    Run the hail case PID script:\n",
    "    <br>\n",
    "    <code lang=\"bash\">!./run_RadxPid.hail</code>\n",
    "</div>"
   ]
  },
  {
   "cell_type": "code",
   "execution_count": null,
   "id": "pid-hail",
   "metadata": {},
   "outputs": [],
   "source": [
    "# Run PID on hail case data\n",
    "!./run_RadxPid.hail"
   ]
  },
  {
   "cell_type": "markdown",
   "id": "step-3-derecho",
   "metadata": {},
   "source": [
    "<div class=\"alert alert-block alert-warning\"> <b>Cell Task: Run PID on derecho case data.</b> \n",
    "    <br>\n",
    "    Run the derecho case PID script:\n",
    "    <br>\n",
    "    <code lang=\"bash\">!./run_RadxPid.derecho</code>\n",
    "</div>"
   ]
  },
  {
   "cell_type": "code",
   "execution_count": null,
   "id": "pid-derecho",
   "metadata": {},
   "outputs": [],
   "source": [
    "# Run PID on derecho case data\n",
    "!./run_RadxPid.derecho"
   ]
  },
  {
   "cell_type": "markdown",
   "id": "pid-explanation",
   "metadata": {},
   "source": [
    "The following shows the PID field for the derecho case:\n",
    "\n",
    "![Alt text](../images/lrose/derecho.pid.png)\n",
    "\n",
    "The interference is identified as clutter in this case.\n",
    "\n",
    "And the following shows the result of using PID to clean up the reflectivity field:\n",
    "\n",
    "![Alt text](../images/lrose/derecho.dbz.censored_by_pid.png)\n",
    "\n",
    "For this tutorial we will use the QC data created by RadxConvert."
   ]
  },
  {
   "cell_type": "markdown",
   "id": "step-4",
   "metadata": {},
   "source": [
    "## 2.3: Convert to Cartesian grid using Radx2Grid\n",
    "\n",
    "Titan requires input data in Cartesian coordinates, rather than polar.\n",
    "To perform this transformation, we run the following to convert the data to Cartesian grid format.\n",
    "\n",
    "<div class=\"alert alert-block alert-warning\"> <b>Cell Task: Convert hail case to Cartesian grid.</b> \n",
    "    <br>\n",
    "    Run the hail case grid conversion script:\n",
    "    <br>\n",
    "    <code lang=\"bash\">!./run_Radx2Grid.hail</code>\n",
    "</div>"
   ]
  },
  {
   "cell_type": "code",
   "execution_count": null,
   "id": "grid-hail",
   "metadata": {},
   "outputs": [],
   "source": [
    "# Convert hail case to Cartesian grid\n",
    "!./run_Radx2Grid.hail"
   ]
  },
  {
   "cell_type": "markdown",
   "id": "step-4-derecho",
   "metadata": {},
   "source": [
    "<div class=\"alert alert-block alert-warning\"> <b>Cell Task: Convert derecho case to Cartesian grid.</b> \n",
    "    <br>\n",
    "    Run the derecho case grid conversion script:\n",
    "    <br>\n",
    "    <code lang=\"bash\">!./run_Radx2Grid.derecho</code>\n",
    "</div>"
   ]
  },
  {
   "cell_type": "code",
   "execution_count": null,
   "id": "grid-derecho",
   "metadata": {},
   "outputs": [],
   "source": [
    "# Convert derecho case to Cartesian grid\n",
    "!./run_Radx2Grid.derecho"
   ]
  },
  {
   "cell_type": "markdown",
   "id": "step-5",
   "metadata": {},
   "source": [
    "# 3. Run TITAN storm tracking\n",
    "\n",
    "Run the TITAN algorithm to identify and track storms.\n",
    "\n",
    "Titan runs on the Cartesian gridded data, using the DBZ field and optionally the VEL field to compute storm rotation.\n",
    "\n",
    "\n",
    "<div class=\"alert alert-block alert-warning\"> <b>Cell Task: Run TITAN on hail case data.</b> \n",
    "    <br>\n",
    "    Run the hail case TITAN script:\n",
    "    <br>\n",
    "    <code lang=\"bash\">!./run_Titan.hail</code>\n",
    "</div>"
   ]
  },
  {
   "cell_type": "code",
   "execution_count": null,
   "id": "titan-hail",
   "metadata": {},
   "outputs": [],
   "source": [
    "# Run TITAN on hail case data\n",
    "!./run_Titan.hail"
   ]
  },
  {
   "cell_type": "code",
   "execution_count": null,
   "id": "0d8fcd01",
   "metadata": {},
   "outputs": [],
   "source": [
    "# Run PID on hail case data\n",
    "!./run_RadxPid.hail"
   ]
  },
  {
   "cell_type": "code",
   "execution_count": null,
   "id": "38ef3199",
   "metadata": {},
   "outputs": [],
   "source": [
    "# Run PID on hail case data\n",
    "!./run_RadxPid.hail"
   ]
  },
  {
   "cell_type": "code",
   "execution_count": null,
   "id": "5c6d7f68",
   "metadata": {},
   "outputs": [],
   "source": [
    "# Run PID on hail case data\n",
    "!./run_RadxPid.hail"
   ]
  },
  {
   "cell_type": "code",
   "execution_count": null,
   "id": "8baddb8f",
   "metadata": {},
   "outputs": [],
   "source": [
    "# Run PID on hail case data\n",
    "!./run_RadxPid.hail"
   ]
  },
  {
   "cell_type": "code",
   "execution_count": null,
   "id": "81e1f760",
   "metadata": {},
   "outputs": [],
   "source": [
    "# Run PID on hail case data\n",
    "!./run_RadxPid.hail"
   ]
  },
  {
   "cell_type": "code",
   "execution_count": null,
   "id": "f419c71b",
   "metadata": {},
   "outputs": [],
   "source": [
    "# Run PID on hail case data\n",
    "!./run_RadxPid.hail"
   ]
  },
  {
   "cell_type": "markdown",
   "id": "step-5-derecho",
   "metadata": {},
   "source": [
    "<div class=\"alert alert-block alert-warning\"> <b>Cell Task: Run TITAN on derecho case data.</b> \n",
    "    <br>\n",
    "    Run the derecho case TITAN script:\n",
    "    <br>\n",
    "    <code lang=\"bash\">!./run_Titan.derecho</code>\n",
    "</div>"
   ]
  },
  {
   "cell_type": "code",
   "execution_count": null,
   "id": "titan-derecho",
   "metadata": {},
   "outputs": [],
   "source": [
    "# Run TITAN on derecho case data\n",
    "!./run_Titan.derecho"
   ]
  },
  {
   "cell_type": "markdown",
   "id": "step-6",
   "metadata": {},
   "source": [
    "# 4. Convert TITAN binary output to readable format\n",
    "\n",
    "## 4.1 Convert TITAN binary output to ASCII format for analysis.\n",
    "\n",
    "<div class=\"alert alert-block alert-warning\"> <b>Cell Task: Convert hail case TITAN output to ASCII.</b> \n",
    "    <br>\n",
    "    Run the hail case ASCII conversion script:\n",
    "    <br>\n",
    "    <code lang=\"bash\">!./run_Tracks2Ascii.hail</code>\n",
    "</div>"
   ]
  },
  {
   "cell_type": "code",
   "execution_count": 2,
   "id": "ascii-hail",
   "metadata": {},
   "outputs": [
    {
     "name": "stdout",
     "output_type": "stream",
     "text": [
      "zsh:1: no such file or directory: ./run_Tracks2Ascii.hail\n"
     ]
    }
   ],
   "source": [
    "# Convert hail case TITAN output to ASCII\n",
    "!./run_Tracks2Ascii.hail"
   ]
  },
  {
   "cell_type": "markdown",
   "id": "step-6-derecho",
   "metadata": {},
   "source": [
    "<div class=\"alert alert-block alert-warning\"> <b>Cell Task: Convert derecho case TITAN output to ASCII.</b> \n",
    "    <br>\n",
    "    Run the derecho case ASCII conversion script:\n",
    "    <br>\n",
    "    <code lang=\"bash\">!./run_Tracks2Ascii.derecho</code>\n",
    "</div>"
   ]
  },
  {
   "cell_type": "code",
   "execution_count": null,
   "id": "ascii-derecho",
   "metadata": {},
   "outputs": [],
   "source": [
    "# Convert derecho case TITAN output to ASCII\n",
    "!./run_Tracks2Ascii.derecho"
   ]
  },
  {
   "cell_type": "markdown",
   "id": "step-7",
   "metadata": {},
   "source": [
    "## 4.2: Convert TITAN output to NetCDF format\n",
    "\n",
    "Convert TITAN binary output to NetCDF format for further analysis.\n",
    "\n",
    "<div class=\"alert alert-block alert-warning\"> <b>Cell Task: Convert hail case TITAN output to NetCDF.</b> \n",
    "    <br>\n",
    "    Run the hail case NetCDF conversion script:\n",
    "    <br>\n",
    "    <code lang=\"bash\">!./run_Tstorms2NetCDF.hail</code>\n",
    "</div>"
   ]
  },
  {
   "cell_type": "code",
   "execution_count": null,
   "id": "netcdf-hail",
   "metadata": {},
   "outputs": [],
   "source": [
    "# Convert hail case TITAN output to NetCDF\n",
    "!./run_Tstorms2NetCDF.hail"
   ]
  },
  {
   "cell_type": "markdown",
   "id": "step-7-derecho",
   "metadata": {},
   "source": [
    "<div class=\"alert alert-block alert-warning\"> <b>Cell Task: Convert derecho case TITAN output to NetCDF.</b> \n",
    "    <br>\n",
    "    Run the derecho case NetCDF conversion script:\n",
    "    <br>\n",
    "    <code lang=\"bash\">!./run_Tstorms2NetCDF.derecho</code>\n",
    "</div>"
   ]
  },
  {
   "cell_type": "code",
   "execution_count": null,
   "id": "netcdf-derecho",
   "metadata": {},
   "outputs": [],
   "source": [
    "# Convert derecho case TITAN output to NetCDF\n",
    "!./run_Tstorms2NetCDF.derecho"
   ]
  },
  {
   "cell_type": "markdown",
   "id": "d2d38621",
   "metadata": {},
   "source": [
    "# 5. Plot Output"
   ]
  },
  {
   "cell_type": "markdown",
   "id": "45246981",
   "metadata": {},
   "source": []
  }
 ],
 "metadata": {
  "kernelspec": {
   "display_name": "base",
   "language": "python",
   "name": "python3"
  },
  "language_info": {
   "codemirror_mode": {
    "name": "ipython",
    "version": 3
   },
   "file_extension": ".py",
   "mimetype": "text/x-python",
   "name": "python",
   "nbconvert_exporter": "python",
   "pygments_lexer": "ipython3",
   "version": "3.10.10"
  }
 },
 "nbformat": 4,
 "nbformat_minor": 5
}
